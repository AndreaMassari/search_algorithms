{
 "cells": [
  {
   "cell_type": "code",
   "execution_count": 55,
   "metadata": {
    "collapsed": false
   },
   "outputs": [],
   "source": [
    "class Graph:\n",
    "    def __init__(self,graphmap={}):\n",
    "        \"\"\"\n",
    "        This is a non-directed graph\n",
    "        \"\"\"\n",
    "        self.graphmap=graphmap\n",
    "        self.paths={}\n",
    "        return\n",
    "\n",
    "    def addnodes(self,new_nodes):\n",
    "        \"\"\"\n",
    "        This function adds a new node to the graph specifying the lengths of the links to other nodes, \n",
    "        which will be symmetrically updated as well\n",
    "        \"\"\"\n",
    "        for new_node in new_nodes:\n",
    "            if new_node[0] not in self.graphmap.keys():\n",
    "                self.graphmap[new_node[0]]=set([]) #initializing the new node if not already there\n",
    "            for i in new_node[1].keys():\n",
    "                self.graphmap[i].add((new_node[0],new_node[1][i])) #adding link lengths for the new node\n",
    "                self.graphmap[new_node[0]].add((i,new_node[1][i])) #updating the old nodes\n",
    "        return\n",
    "    \n",
    "    def search_paths(self,start):\n",
    "        if start not in self.graphmap.keys():\n",
    "            return \"Hey, you chose a node that doesn't exist...\"\n",
    "        self.paths={start:[0,[start],1]}\n",
    "        any_change=1\n",
    "        while anyt_change>0:\n",
    "            any_change=0\n",
    "            for vis_node in list(self.paths.keys()):\n",
    "                if self.paths[vis_node][2]:\n",
    "                    self.paths[vis_node][2]=0\n",
    "                    for next_node in self.graphmap[vis_node]:\n",
    "                        if ((next_node[0] in self.paths.keys()) and (self.paths[next_node[0]][0]>self.paths[vis_node][0]+next_node[1])) or (next_node[0] not in self.paths.keys()):\n",
    "                                self.paths[next_node[0]]=[self.paths[vis_node][0]+next_node[1],self.paths[vis_node][1]+[next_node[0]],1]\n",
    "                                any_change=any_change+1\n",
    "        return\n",
    "    "
   ]
  },
  {
   "cell_type": "code",
   "execution_count": 47,
   "metadata": {
    "collapsed": false
   },
   "outputs": [],
   "source": [
    "#example of the structure of a graph, it's a dictionary of sets, \n",
    "#each containing the linked nodes and the corresponding link lengths\n",
    "graphmap={'s':{('a',1),('c',2)},'a':{('s',1),('b',1),('d',2)},'c':{('s',2),('d',10)},\n",
    "          'b':{('a',1),('g',10)},'d':{('a',2),('c',10),('g',1)},'g':{('b',10),('d',1)}}"
   ]
  },
  {
   "cell_type": "code",
   "execution_count": 56,
   "metadata": {
    "collapsed": true
   },
   "outputs": [],
   "source": [
    "graph=Graph(graphmap)"
   ]
  },
  {
   "cell_type": "code",
   "execution_count": 190,
   "metadata": {
    "collapsed": false
   },
   "outputs": [],
   "source": [
    "#example of how to use the above function to generate a graph\n",
    "#{'s':set([])} is the trivial graph\n",
    "graphmap=addnodes({'s':set([])},[['a',{'s':1}],['b',{'s':10,'a':2}],['g',{'b':3,'a':2}],['e',{'g':3,'a':4,'s':2}]])"
   ]
  },
  {
   "cell_type": "code",
   "execution_count": 49,
   "metadata": {
    "collapsed": false,
    "scrolled": true
   },
   "outputs": [
    {
     "data": {
      "text/plain": [
       "{'a': {('b', 1), ('d', 2), ('s', 1)},\n",
       " 'b': {('a', 1), ('g', 10)},\n",
       " 'c': {('d', 10), ('s', 2)},\n",
       " 'd': {('a', 2), ('c', 10), ('g', 1)},\n",
       " 'g': {('b', 10), ('d', 1)},\n",
       " 's': {('a', 1), ('c', 2)}}"
      ]
     },
     "execution_count": 49,
     "metadata": {},
     "output_type": "execute_result"
    }
   ],
   "source": [
    "graphmap"
   ]
  },
  {
   "cell_type": "code",
   "execution_count": 61,
   "metadata": {
    "collapsed": false
   },
   "outputs": [],
   "source": [
    "graph.search_paths('b')"
   ]
  },
  {
   "cell_type": "code",
   "execution_count": 62,
   "metadata": {
    "collapsed": false
   },
   "outputs": [
    {
     "data": {
      "text/plain": [
       "{'a': [1, ['b', 'a'], 0],\n",
       " 'b': [0, ['b'], 0],\n",
       " 'c': [4, ['b', 'a', 's', 'c'], 0],\n",
       " 'd': [3, ['b', 'a', 'd'], 0],\n",
       " 'g': [4, ['b', 'a', 'd', 'g'], 0],\n",
       " 's': [2, ['b', 'a', 's'], 0]}"
      ]
     },
     "execution_count": 62,
     "metadata": {},
     "output_type": "execute_result"
    }
   ],
   "source": [
    "graph.paths"
   ]
  },
  {
   "cell_type": "code",
   "execution_count": 14,
   "metadata": {
    "collapsed": true
   },
   "outputs": [],
   "source": [
    "class Node:\n",
    "    def __init__(self,val,left,right):\n",
    "        self.val=val\n",
    "        self.left=left\n",
    "        self.right=right\n",
    "        return\n",
    "    \n",
    "def is_this_it(head1,head2):\n",
    "    if head2 is None:\n",
    "        return True\n",
    "    if head1 is None:\n",
    "        return False\n",
    "    return (head1.val==head2.val) and is_this_it(head1.left,head2.left) and is_this_it(head1.right,head2.right)\n",
    "\n",
    "def is_it_here(head1,head2):\n",
    "    if head2 is None:\n",
    "        return True\n",
    "    if head1 is None:\n",
    "        return False\n",
    "    return is_this_it(head1,head2) or is_it_here(head1.left,head2) or is_it_here(head1.right,head2)"
   ]
  },
  {
   "cell_type": "code",
   "execution_count": 18,
   "metadata": {
    "collapsed": false
   },
   "outputs": [],
   "source": [
    "N11=Node(4,None,None)\n",
    "N12=Node(5,None,None)\n",
    "N13=Node(3,N11,N12)\n",
    "N14=Node(2,N13,None)\n",
    "N15=Node(2,None,None)\n",
    "N16=Node(2,N14,N15)\n",
    "\n",
    "\n",
    "N21=Node(4,None,None)\n",
    "N22=Node(5,None,None)\n",
    "N23=Node(3,N21,N22)\n"
   ]
  },
  {
   "cell_type": "code",
   "execution_count": 19,
   "metadata": {
    "collapsed": false
   },
   "outputs": [
    {
     "data": {
      "text/plain": [
       "True"
      ]
     },
     "execution_count": 19,
     "metadata": {},
     "output_type": "execute_result"
    }
   ],
   "source": [
    "is_it_here(N14,N23)"
   ]
  },
  {
   "cell_type": "markdown",
   "metadata": {},
   "source": [
    "# Counting inversions"
   ]
  },
  {
   "cell_type": "code",
   "execution_count": 24,
   "metadata": {
    "collapsed": true
   },
   "outputs": [],
   "source": [
    "import numpy as np\n",
    "a=list(range(5))\n",
    "b=list(range(5))"
   ]
  },
  {
   "cell_type": "code",
   "execution_count": 42,
   "metadata": {
    "collapsed": false
   },
   "outputs": [
    {
     "data": {
      "text/plain": [
       "array([-4, -1, -1,  3,  3])"
      ]
     },
     "execution_count": 42,
     "metadata": {},
     "output_type": "execute_result"
    }
   ],
   "source": [
    "np.random.shuffle(a)\n",
    "np.array(b)-np.array(a)"
   ]
  },
  {
   "cell_type": "code",
   "execution_count": 43,
   "metadata": {
    "collapsed": false
   },
   "outputs": [
    {
     "data": {
      "text/plain": [
       "[4, 2, 3, 0, 1]"
      ]
     },
     "execution_count": 43,
     "metadata": {},
     "output_type": "execute_result"
    }
   ],
   "source": [
    "a"
   ]
  },
  {
   "cell_type": "code",
   "execution_count": 44,
   "metadata": {
    "collapsed": true
   },
   "outputs": [],
   "source": [
    "from datetime import date\n",
    "from datetime import datetime\n",
    "import math\n",
    "import requests\n",
    "from lxml import etree\n",
    "\n",
    "priceDic = {}\n",
    "\n",
    "def getNews(ticker):\n",
    "    url = 'https://www.google.com/finance/company_news?q=' + ticker + '&start=0&num=1000'\n",
    "    r = requests.get(url)\n",
    "    dom = etree.HTML(r.content)\n",
    "    nameList = dom.xpath(\"//div[@id='news-main']//span[@class='name']/a/text()\")\n",
    "    dateList = dom.xpath(\"//div[@id='news-main']//span[@class='date']/text()\")\n",
    " \n",
    "    rtn = []\n",
    "    for i in range(len(nameList)):\n",
    "        d = dateList[i]\n",
    "        n = nameList[i].replace(\"\\xa0\", \" \")\n",
    "        if \"ago\" in d:\n",
    "            d = date.today()\n",
    "        else:\n",
    "            d = datetime.strptime(d, \"%b %d, %Y\").date()\n",
    "        rtn.append({'title': n, 'date': d})\n",
    "\n",
    "    return rtn"
   ]
  },
  {
   "cell_type": "code",
   "execution_count": 45,
   "metadata": {
    "collapsed": true
   },
   "outputs": [
    {
     "data": {
      "text/plain": [
       "[{'date': datetime.date(2017, 2, 10),\n",
       "  'title': 'How Apple Inc. Hopes to Grow Its Services Business to $50 Billion by 2020'},\n",
       " {'date': datetime.date(2017, 2, 9),\n",
       "  'title': \"1 More Sign That Apple Inc.'s New MacBook Pro Computers Are a Huge Hit\"},\n",
       " {'date': datetime.date(2017, 2, 8),\n",
       "  'title': 'Is Apple Inc. on the Verge of Cracking This Fast-Growing Market?'},\n",
       " {'date': datetime.date(2017, 2, 7),\n",
       "  'title': 'The Most Cash That Apple, Inc. Has Ever Had'},\n",
       " {'date': datetime.date(2017, 2, 10), 'title': 'Apple: The $1000 iPhone'},\n",
       " {'date': datetime.date(2017, 2, 10),\n",
       "  'title': 'Despite Generous Capital Returns, Apple Inc. Still Has More Cash Than Ever Before'},\n",
       " {'date': datetime.date(2017, 2, 6),\n",
       "  'title': 'Apple, Inc. Is Now Approaching $100 Billion in Debt'},\n",
       " {'date': datetime.date(2017, 2, 8),\n",
       "  'title': \"How Good Was Apple Inc.'s Q1 Earnings Report?\"},\n",
       " {'date': datetime.date(2017, 2, 9),\n",
       "  'title': 'Apple, Inc. iPhone Sales in China Reportedly Fell 18% Last Year'},\n",
       " {'date': datetime.date(2017, 2, 10),\n",
       "  'title': 'No, Apple Inc. Is Not Releasing the iPhone 8 Early'},\n",
       " {'date': datetime.date(2017, 2, 7),\n",
       "  'title': \"Apple Inc.'s Mac Is Back on Track\"},\n",
       " {'date': datetime.date(2017, 2, 10),\n",
       "  'title': 'Should Apple Inc. Return To Display Business After Issues With LG?'},\n",
       " {'date': datetime.date(2017, 2, 10),\n",
       "  'title': 'Bernstein reiterates Apple at Outperform, addresses services business'},\n",
       " {'date': datetime.date(2017, 2, 8),\n",
       "  'title': 'Apple Inc. gears up to distribute $3.1 billion in dividends to shareholders'},\n",
       " {'date': datetime.date(2017, 2, 9),\n",
       "  'title': 'Avoid This One Pothole When Valuing Apple Shares'},\n",
       " {'date': datetime.date(2017, 2, 10),\n",
       "  'title': 'Apple Inc. a 50% Dividend Grower Hiding in Plain Sight (AAPL)'},\n",
       " {'date': datetime.date(2017, 2, 8),\n",
       "  'title': 'Apple Inc. Taps Head of Amazon Fire to Run Apple TV (AAPL)'},\n",
       " {'date': datetime.date(2017, 2, 1),\n",
       "  'title': 'Apple, Inc. Earnings: Why the \"Most Accurate\" Apple Analyst Blew It'},\n",
       " {'date': datetime.date(2017, 2, 7),\n",
       "  'title': \"How Apple, Inc.'s Share Repurchases Are Driving Record Results\"},\n",
       " {'date': datetime.date(2017, 2, 10),\n",
       "  'title': 'Amazon.com, Inc. (AMZN), Apple Inc. (AAPL): The Tale of the Online Retail ...'},\n",
       " {'date': datetime.date(2017, 2, 3),\n",
       "  'title': \"Apple Inc's iPad Business Isn't As Bad As It Looks\"},\n",
       " {'date': datetime.date(2017, 2, 8),\n",
       "  'title': 'Will Apple Watch Be A Success?'},\n",
       " {'date': datetime.date(2017, 2, 8),\n",
       "  'title': \"3 Mutual Funds to Buy on Apple Inc.'s (AAPL) Robust Earnings\"},\n",
       " {'date': datetime.date(2017, 2, 4),\n",
       "  'title': 'Apple Inc. Has Big Plans for Its Fast-Growing Services Business'},\n",
       " {'date': datetime.date(2017, 2, 8),\n",
       "  'title': 'Apple Inc. (AAPL) Ex-Dividend Date Scheduled for February 09, 2017'},\n",
       " {'date': datetime.date(2017, 2, 10),\n",
       "  'title': 'Positive figures for the Apple Watch?'},\n",
       " {'date': datetime.date(2017, 2, 9),\n",
       "  'title': \"Thursday's Vital Data: Apple Inc. (AAPL), Gilead Sciences, Inc. (GILD) and ...\"},\n",
       " {'date': datetime.date(2017, 2, 7),\n",
       "  'title': \"Apple Inc.'s Ultra Accessory Connector: Don't Panic! (AAPL)\"},\n",
       " {'date': datetime.date(2017, 1, 24),\n",
       "  'title': 'Earnings Preview: Can Apple, Inc. Return to Growth?'},\n",
       " {'date': datetime.date(2017, 2, 10),\n",
       "  'title': 'Apple Inc. (AAPL) Closes 0.23% Down on the Day for February 10'},\n",
       " {'date': datetime.date(2017, 2, 1),\n",
       "  'title': 'Apple, Inc. Earnings: 3 Answers From CEO Tim Cook'},\n",
       " {'date': datetime.date(2017, 1, 25),\n",
       "  'title': 'Apple, Inc. Brings Its Fight With Qualcomm to China'},\n",
       " {'date': datetime.date(2017, 2, 8),\n",
       "  'title': 'Is Apple Inc. (AAPL) Stock Due for a Correction?'},\n",
       " {'date': datetime.date(2017, 2, 7),\n",
       "  'title': 'Apple Inc. Nearing $100 Billion In Debt: What Does This Mean?'},\n",
       " {'date': datetime.date(2017, 2, 3),\n",
       "  'title': 'Apple Inc. (AAPL) Smartwatch Is Still Dominant Despite All the Doubt'},\n",
       " {'date': datetime.date(2017, 1, 20),\n",
       "  'title': 'Apple Inc. Planning New iPad Launches in 1st Half of 2017'},\n",
       " {'date': datetime.date(2017, 1, 13),\n",
       "  'title': 'Better Buy: Apple Inc. vs. IBM'},\n",
       " {'date': datetime.date(2017, 1, 11),\n",
       "  'title': 'Apple, Inc. Continues to Slip in China'},\n",
       " {'date': datetime.date(2017, 1, 17),\n",
       "  'title': 'How This Apple Inc. Supplier Created Hundreds of Thousands of Jobs in the ...'},\n",
       " {'date': datetime.date(2017, 2, 9),\n",
       "  'title': \"Apple finally speaks out publicly against Trump's travel ban\"},\n",
       " {'date': datetime.date(2017, 1, 17),\n",
       "  'title': \"Why I'd Be Terrified of Apple, Inc. Acquiring Netflix\"},\n",
       " {'date': datetime.date(2017, 2, 6),\n",
       "  'title': 'Xiaomi Was Going to Rival Apple Inc. (AAPL) Stock — What Happened?'},\n",
       " {'date': datetime.date(2017, 2, 8),\n",
       "  'title': 'Warren Buffett Loves Apple, Can The Stock Hit $150?'},\n",
       " {'date': datetime.date(2017, 1, 31),\n",
       "  'title': 'Intel Corporation Gets an Apple Inc. iPhone 7 Boost'},\n",
       " {'date': datetime.date(2017, 1, 17),\n",
       "  'title': 'Apple Inc.\\'s \"Super Cycle\" Problem'},\n",
       " {'date': datetime.date(2017, 1, 27),\n",
       "  'title': 'How Intel Corporation Can Strengthen Its Relationship With Apple Inc.'},\n",
       " {'date': datetime.date(2017, 2, 3),\n",
       "  'title': 'Apple Inc. (AAPL) Could Be a Step Closer to Booting Intel From Macs'},\n",
       " {'date': datetime.date(2017, 1, 29),\n",
       "  'title': 'Will Lawsuits Force Apple, Inc. To Prevent Texting And Driving?'},\n",
       " {'date': datetime.date(2017, 1, 24),\n",
       "  'title': 'Apple, Inc. Had to Get In Bed With Qualcomm Because of Verizon'},\n",
       " {'date': datetime.date(2017, 2, 9),\n",
       "  'title': \"Why Isn't Trump Going After Apple, The Biggest Outsourcer And Tax Evader Of All?\"},\n",
       " {'date': datetime.date(2017, 2, 2),\n",
       "  'title': \"Thursday's Vital Data: Apple Inc. (AAPL), Facebook Inc (FB) and Advanced Micro ...\"},\n",
       " {'date': datetime.date(2017, 2, 3),\n",
       "  'title': 'Apple: The Impact Of Higher Rates'},\n",
       " {'date': datetime.date(2017, 2, 9),\n",
       "  'title': 'Alphabet Inc (GOOGL) Finally Fires Back at Apple With Android Wear 2.0'},\n",
       " {'date': datetime.date(2017, 1, 19),\n",
       "  'title': 'Does This Apple, Inc. Stock Recovery Have Legs?'},\n",
       " {'date': datetime.date(2017, 1, 31),\n",
       "  'title': \"Observations From Apple's Earnings Report\"},\n",
       " {'date': datetime.date(2017, 2, 3),\n",
       "  'title': \"If You Like Apple Inc., You'll Love Skyworks Solutions Inc (AAPL, SWKS)\"},\n",
       " {'date': datetime.date(2017, 2, 9),\n",
       "  'title': \"The Myth of Apple's Great Design\"},\n",
       " {'date': datetime.date(2017, 2, 1),\n",
       "  'title': \"Will the Apple Inc. HomeKit Beat Amazon's Alexa? (AAPL)\"},\n",
       " {'date': datetime.date(2017, 2, 6),\n",
       "  'title': \"Monday's Vital Data: Bank of America Corp (BAC), Apple Inc. (AAPL) and Visa ...\"},\n",
       " {'date': datetime.date(2017, 2, 1), 'title': 'Apple: Bulls Have Taken Over'},\n",
       " {'date': datetime.date(2017, 2, 8),\n",
       "  'title': 'Apple hires Amazon Fire TV head'},\n",
       " {'date': datetime.date(2017, 2, 6),\n",
       "  'title': 'Apple reiterated at Outperform at RBC Capital Markets'},\n",
       " {'date': datetime.date(2017, 2, 10),\n",
       "  'title': 'Free Apple Inc. (NASDAQ:AAPL) Apple Music To Be Offered With The Purchase Of ...'},\n",
       " {'date': datetime.date(2017, 2, 10),\n",
       "  'title': \"What Do Tesla, Netflix And Disney Have In Common? There's Talk Apple Could Buy ...\"},\n",
       " {'date': datetime.date(2017, 2, 10),\n",
       "  'title': 'Intel: 4 Reasons To Overlook Disappointing Margin Outlook And Buy The Stock'},\n",
       " {'date': datetime.date(2017, 2, 9),\n",
       "  'title': 'Traders Secrets on Ford Motor Company (F), Apple Inc. (AAPL)'},\n",
       " {'date': datetime.date(2017, 2, 10),\n",
       "  'title': 'Apple Users Have Higher Credit Scores, Get Better Rates Than Android Fans'},\n",
       " {'date': datetime.date(2017, 2, 10),\n",
       "  'title': 'EOD Risers: 3M Co, American Express Company, Apple Inc., Boeing Co ...'},\n",
       " {'date': datetime.date(2017, 2, 10),\n",
       "  'title': 'Comprehensive Stock Analysis of: Apple Inc. (NASDAQ:AAPL)'},\n",
       " {'date': datetime.date(2017, 2, 10),\n",
       "  'title': 'Apple Inc. (NASDAQ:AAPL) to Announce Its next iPad Pro'},\n",
       " {'date': datetime.date(2017, 2, 9),\n",
       "  'title': 'Vanguard Group hikes passive stake in Apple to 6.3 pct from 5.8 pct'},\n",
       " {'date': datetime.date(2017, 2, 3),\n",
       "  'title': 'Apple files for nine-part, $10.0 bln notes offering'},\n",
       " {'date': datetime.date(2017, 2, 2),\n",
       "  'title': 'Apple readies to sell up to $8 bln in new bonds- FT, citing sources'},\n",
       " {'date': datetime.date(2017, 2, 2),\n",
       "  'title': 'Nokia prepared for long legal battle with Apple - CFO'},\n",
       " {'date': datetime.date(2017, 2, 1),\n",
       "  'title': 'Apple sees about $16 bln capex during 2017'},\n",
       " {'date': datetime.date(2017, 1, 31),\n",
       "  'title': 'Apple reports Q1 iPhone sales of 78.3 million units'},\n",
       " {'date': datetime.date(2017, 1, 31),\n",
       "  'title': \"Apple's holiday-quarter revenue rises 3 pct\"},\n",
       " {'date': datetime.date(2017, 1, 25),\n",
       "  'title': \"Qualcomm comments on Apple's lawsuits in China\"},\n",
       " {'date': datetime.date(2017, 1, 25),\n",
       "  'title': 'NV Energy Inc says co, Apple reached agreement to build 200 megawatts of additional solar energy in Nevada'},\n",
       " {'date': datetime.date(2017, 1, 20),\n",
       "  'title': 'Apple sues Qualcomm for roughly $1 bln over royalties - CNBC'},\n",
       " {'date': datetime.date(2017, 1, 12),\n",
       "  'title': 'U.S. appeals court revives antitrust lawsuit against Apple'},\n",
       " {'date': datetime.date(2017, 1, 6),\n",
       "  'title': \"Apple Inc's CEO Tim Cook's total 2016 compensation was $8.7 mln versus $10.3 mln last year\"},\n",
       " {'date': datetime.date(2016, 12, 30),\n",
       "  'title': 'Apple to trim production of its iPhone family around 10 pct on the year in Q1 2017 - Nikkei'},\n",
       " {'date': datetime.date(2016, 12, 22),\n",
       "  'title': 'Nokia expands patent litigation against Apple in Asia, Europe and U.S.'},\n",
       " {'date': datetime.date(2016, 12, 22),\n",
       "  'title': 'Nokia esays xpands patent litigation against Apple in Asia, Europe and the U.S.'},\n",
       " {'date': datetime.date(2016, 12, 21),\n",
       "  'title': 'Nokia sues apple in Europe, U.S. for infringement of Nokia patents'},\n",
       " {'date': datetime.date(2016, 12, 20),\n",
       "  'title': 'Nike CFO- Expect Q3 reported revenue to grow in mid single-digit range'},\n",
       " {'date': datetime.date(2016, 12, 20),\n",
       "  'title': 'Apple is discussing manufacturing in India - WSJ citing government officials'},\n",
       " {'date': datetime.date(2016, 12, 15),\n",
       "  'title': 'Interdigital announces patent license agreement with Apple'},\n",
       " {'date': datetime.date(2016, 12, 13),\n",
       "  'title': 'Apple said airpods are available to order online now from apple.com'},\n",
       " {'date': datetime.date(2016, 12, 12),\n",
       "  'title': 'Apple has held talks to invest in $100 billion Softbank Technology Fund that Softbank CEO touted alongside Trump on Friday - CNBC,citing Dow Jones'},\n",
       " {'date': datetime.date(2016, 11, 14),\n",
       "  'title': 'Greenlight Capital cuts share stake in Apple, Michael Kors'},\n",
       " {'date': datetime.date(2016, 11, 14),\n",
       "  'title': 'Tiger Global Management raises share stake in Apple, cuts share stake in Amazon'},\n",
       " {'date': datetime.date(2016, 10, 26),\n",
       "  'title': 'Apple anticipates utilizing about $16 bln for capital expenditures during 2017'},\n",
       " {'date': datetime.date(2016, 10, 26),\n",
       "  'title': 'Three new iPhone 8 models likely to have glass backs supplied by Biel Crystal Manufactory, Lens Technology - Nikkei'},\n",
       " {'date': datetime.date(2016, 10, 25),\n",
       "  'title': \"Apple CFO says 'impossible to know' effect of Samsung Note 7 recall on iPhone demand\"},\n",
       " {'date': datetime.date(2016, 10, 25),\n",
       "  'title': \"Apple's 4th-qtr revenue falls 9 pct\"},\n",
       " {'date': datetime.date(2016, 10, 25),\n",
       "  'title': 'Apple Inc reports Q4 iPhone sales of 45.5 mln units'},\n",
       " {'date': datetime.date(2016, 10, 24),\n",
       "  'title': \"Apple says 'Apple Watch Nike+' will be available Friday, Oct. 28\"},\n",
       " {'date': datetime.date(2016, 10, 13),\n",
       "  'title': 'Fitch says reputation risk bigger than cost impact of Samsung recall'},\n",
       " {'date': datetime.date(2016, 10, 7),\n",
       "  'title': 'U.S. appeals court revives $120 million patent verdict against Samsung and in favor of Apple<005930.KS><AAPL.O>'},\n",
       " {'date': datetime.date(2016, 10, 5),\n",
       "  'title': 'Google will not make a Twitter bid and Apple also an unlikely suitor - Recode, citing sources'},\n",
       " {'date': datetime.date(2016, 9, 21),\n",
       "  'title': 'Apple in talks with Lit Motors about a potential acquisition - NYT, citing sources'},\n",
       " {'date': datetime.date(2016, 9, 21),\n",
       "  'title': 'Apple in talks with luxury carmaker McLaren about potential acquisition - FT'},\n",
       " {'date': datetime.date(2016, 9, 15),\n",
       "  'title': 'Acacia Research unit awarded verdict of willful patent infringement in case against Apple'},\n",
       " {'date': datetime.date(2016, 9, 14),\n",
       "  'title': 'Japan report says Apple and Google engage in practices undermining competition in smartphone app market - Nikkei<AAPL.O><GOOGL.O>'},\n",
       " {'date': datetime.date(2016, 9, 14),\n",
       "  'title': 'Time Inc will integrate Apple Pay for its customers'},\n",
       " {'date': datetime.date(2016, 9, 14),\n",
       "  'title': 'Twitter launches new app for Apple tv, Amazon Fire tv, Xbox'},\n",
       " {'date': datetime.date(2016, 9, 7),\n",
       "  'title': 'Apple - Apple Watch Series 2 will be available beginning Sept. 16'},\n",
       " {'date': datetime.date(2016, 9, 6),\n",
       "  'title': \"Apple Pay heads to Japan with help from Sony's contactless tech - Nikkei\"},\n",
       " {'date': datetime.date(2016, 9, 5),\n",
       "  'title': 'Fitch says Apple ruling may help Ireland fiscals, but presents risks'},\n",
       " {'date': datetime.date(2016, 8, 29),\n",
       "  'title': 'Apple sends out invites for a Sept 7 event- CNBC'},\n",
       " {'date': datetime.date(2016, 8, 27),\n",
       "  'title': 'Apple reports stock award of 1.26 mln shares of common stock to CEO Tim Cook - SEC filing'},\n",
       " {'date': datetime.date(2016, 8, 22),\n",
       "  'title': 'Apple has come up with three new iPhone models for next year - Nikkei'},\n",
       " {'date': datetime.date(2016, 8, 19),\n",
       "  'title': 'Lyft in recent months held talks or made approaches to sell itself- NYT'},\n",
       " {'date': datetime.date(2016, 8, 18),\n",
       "  'title': \"BSD Crown says court denies rehearing for co's Apple infringement claim\"},\n",
       " {'date': datetime.date(2016, 8, 17),\n",
       "  'title': 'Apple announces environmental progress in China'},\n",
       " {'date': datetime.date(2016, 8, 15),\n",
       "  'title': 'Berkshire Hathaway ups stake in Apple by 55 pct'},\n",
       " {'date': datetime.date(2016, 8, 15),\n",
       "  'title': 'Twitter is in talks with Apple to bring the Twitter app to Apple TV - NYT, citing sources'},\n",
       " {'date': datetime.date(2016, 8, 2),\n",
       "  'title': 'Kudelski and Apple settle patent litigation'},\n",
       " {'date': datetime.date(2016, 8, 1),\n",
       "  'title': 'Virnetx Holding says U.S. District Court issued new order in litigation against Apple'},\n",
       " {'date': datetime.date(2016, 7, 28),\n",
       "  'title': \"Moody's assigns AA1 rating to Apple Inc senior unsecured note issuance\"},\n",
       " {'date': datetime.date(2016, 7, 28),\n",
       "  'title': \"S&P assigns 'AA+' rating to Apple Inc's senior unsecured notes\"},\n",
       " {'date': datetime.date(2016, 7, 27),\n",
       "  'title': 'Apple sees utilizing about $13 bln for capex during 2016 - filing'},\n",
       " {'date': datetime.date(2016, 7, 26),\n",
       "  'title': 'Apple reports Q3 earnings per share $1.42'},\n",
       " {'date': datetime.date(2016, 7, 26),\n",
       "  'title': \"Apple says Apple music will be global home of CBS's new Carpool Karaoke series\"},\n",
       " {'date': datetime.date(2016, 7, 26),\n",
       "  'title': 'Apple buys new \"carpool karaoke\" series from CBS -CNBC'},\n",
       " {'date': datetime.date(2016, 7, 8),\n",
       "  'title': 'Network-1 says Mirror World settled patent litigation with Apple'},\n",
       " {'date': datetime.date(2016, 6, 30),\n",
       "  'title': 'Nike appoints Tim Cook as lead independent director of Board'},\n",
       " {'date': datetime.date(2016, 6, 30),\n",
       "  'title': \"Apple in talks to acquire Tidal, Jay Z's streaming-music service - CNBC, citing Dow Jones\"},\n",
       " {'date': datetime.date(2016, 6, 22),\n",
       "  'title': 'Apple consummates issuance, sale of $1.4 bln aggregate principal amount of 4.15% notes due 2046'},\n",
       " {'date': datetime.date(2016, 6, 21),\n",
       "  'title': 'Apple unlikely to make big changes for next iPhone- WSJ'},\n",
       " {'date': datetime.date(2016, 6, 17),\n",
       "  'title': 'Samsung to increase OLED displays production with eye toward supplying Apple, others - Nikkei'},\n",
       " {'date': datetime.date(2016, 6, 17),\n",
       "  'title': 'Apple says iPhone 6 and other models available for sale today in China-CNBC'},\n",
       " {'date': datetime.date(2016, 6, 17),\n",
       "  'title': 'Despite report saying iPhone sales halted in Beijing, all Apple products are for sale right now in China - CNBC'},\n",
       " {'date': datetime.date(2016, 6, 17),\n",
       "  'title': \"Apple's iPhones found to have violated Chinese rival's patent- Bloomberg\"},\n",
       " {'date': datetime.date(2016, 6, 16),\n",
       "  'title': \"European Commission may deliver its verdict on Apple's tax arrangements in Ireland as soon as next month - Bloomberg\"},\n",
       " {'date': datetime.date(2016, 6, 14),\n",
       "  'title': 'Apple eyes music production to bolster services business - Nikkei<AAPL.O>'},\n",
       " {'date': datetime.date(2016, 6, 13),\n",
       "  'title': 'Sling TV says its live and on-demand internet TV service available on Apple TV'},\n",
       " {'date': datetime.date(2016, 6, 10),\n",
       "  'title': 'Intel said to get chip order from Apple - StreetInsider, citing Bloomberg'},\n",
       " {'date': datetime.date(2016, 6, 8), 'title': 'Eros now launches on Apple TV'},\n",
       " {'date': datetime.date(2016, 6, 7),\n",
       "  'title': 'Apple files for potential notes offering'},\n",
       " {'date': datetime.date(2016, 6, 3),\n",
       "  'title': \"S&P assigns 'AA+' rating to Apple Inc's Australian dollar-denominated senior unsecured notes\"},\n",
       " {'date': datetime.date(2016, 6, 2),\n",
       "  'title': 'Goldman cuts Apple estimates, price target'},\n",
       " {'date': datetime.date(2016, 5, 25),\n",
       "  'title': 'Global Payments announces support for Apple Pay in Singapore'},\n",
       " {'date': datetime.date(2016, 5, 25),\n",
       "  'title': \"India's finance minister ratified decision that Apple must meet local sourcing rules to open its own stores - Bloomberg\"},\n",
       " {'date': datetime.date(2016, 5, 16),\n",
       "  'title': 'Carl Icahn dissolves in Apple, ups in AIG'},\n",
       " {'date': datetime.date(2016, 5, 16),\n",
       "  'title': 'Omega Advisors has liquidated stake in Apple – source'},\n",
       " {'date': datetime.date(2016, 5, 13),\n",
       "  'title': 'Apple invests $1 bln in Didi Chuxing'},\n",
       " {'date': datetime.date(2016, 4, 28),\n",
       "  'title': 'Apple Inc - U.S. FBI will not share iPhone unlocking mechanism, cites lack of ownership - Reuters News'},\n",
       " {'date': datetime.date(2016, 4, 4),\n",
       "  'title': 'Apple Inc - EU competition chief says unclear when Apple tax probe will be decided - Reuters News'},\n",
       " {'date': datetime.date(2016, 3, 28),\n",
       "  'title': 'Apple Inc - U.S. expected to withdraw legal action against Apple -USA Today - Reuters News'},\n",
       " {'date': datetime.date(2016, 3, 16),\n",
       "  'title': \"Apple Inc - EU regulators want more info on Apple's Irish tax deal - Reuters News\"},\n",
       " {'date': datetime.date(2016, 3, 14),\n",
       "  'title': \"Apple Inc, McDonald's, Google and IKEA to face EU lawmakers over tax deals - Reuters News\"},\n",
       " {'date': datetime.date(2016, 3, 7),\n",
       "  'title': 'Apple Inc - Mac ransomware downloaded about 6,500 times, Transmission rep says - Reuters News'},\n",
       " {'date': datetime.date(2016, 3, 7),\n",
       "  'title': \"Apple Inc - German regulator well suited to investigate Facebook - EU's Vestager - Reuters News\"},\n",
       " {'date': datetime.date(2016, 2, 24),\n",
       "  'title': 'Apple Inc working on measures to make it harder for government to hack iPhones -NYT - Reuters'},\n",
       " {'date': datetime.date(2016, 2, 19),\n",
       "  'title': 'Apple Inc - U.S. files motion to compel Apple to comply with phone order -ABC News - Reuters'},\n",
       " {'date': datetime.date(2016, 2, 18),\n",
       "  'title': 'Apple Inc - Key US lawmaker suggests openness to encryption legislation after Apple order - Reuters'},\n",
       " {'date': datetime.date(2016, 2, 18),\n",
       "  'title': 'Apple Inc - U.S. CPSC says Apple recalls travel adapter kits and plugs - Reuters'},\n",
       " {'date': datetime.date(2016, 2, 17),\n",
       "  'title': 'Apple Inc - US appeals court upholds Apple e-book settlement - Reuters'},\n",
       " {'date': datetime.date(2016, 2, 1),\n",
       "  'title': 'Apple Inc - EU antitrust chief rejects U.S. criticism of Apple, Starbucks tax cases - Reuters'},\n",
       " {'date': datetime.date(2016, 1, 29),\n",
       "  'title': 'Apple Inc - Top U.S. official to meet EU antitrust team on tax - Reuters'},\n",
       " {'date': datetime.date(2016, 1, 28),\n",
       "  'title': 'Apple Inc to voluntarily recall some AC wall plug adaptors - Reuters'},\n",
       " {'date': datetime.date(2016, 1, 26),\n",
       "  'title': \"Apple Inc gives Q2 2016 revenue guidance below analysts' estimates\"},\n",
       " {'date': datetime.date(2016, 1, 4),\n",
       "  'title': 'Apple Inc - Google, Amazon face test after Apple reaches tax agreement with Italy - XINHUN'},\n",
       " {'date': datetime.date(2015, 12, 21),\n",
       "  'title': 'Ericsson and Apple sign global patent license agreement, settle litigation'},\n",
       " {'date': datetime.date(2015, 12, 16),\n",
       "  'title': 'Apple Inc - Australia unmasks 600 big earning companies which paid no tax in 2014 - Reuters'},\n",
       " {'date': datetime.date(2015, 11, 16),\n",
       "  'title': 'Apple Inc - German watchdog probes Apple and Amazon audiobooks agreement - Reuters'},\n",
       " {'date': datetime.date(2015, 11, 9),\n",
       "  'title': 'Apple Inc - Ireland still sees EU tax decision on Apple by year-end - Reuters'},\n",
       " {'date': datetime.date(2015, 10, 29),\n",
       "  'title': 'Apple Inc asks U.S. Supreme Court to toss e-books antitrust decision - Reuters'},\n",
       " {'date': datetime.date(2015, 10, 27),\n",
       "  'title': \"Apple Inc gives Q1 2016 revenue guidance in line with analysts' estimates\"},\n",
       " {'date': datetime.date(2015, 10, 16),\n",
       "  'title': 'Apple Inc ordered to pay $234 mln to university for infringing patent - Reuters'},\n",
       " {'date': datetime.date(2015, 9, 21),\n",
       "  'title': 'Apple Inc cleaning up iOS App Store after first major attack - Reuters'},\n",
       " {'date': datetime.date(2015, 9, 3),\n",
       "  'title': 'U.S. judge approves $415 mln settlement in tech worker lawsuit, which workers accused Apple Inc, Google Inc and Intel Corp and Adobe Systems Inc - Reuters'},\n",
       " {'date': datetime.date(2015, 8, 25),\n",
       "  'title': 'Top German court rejects Apple Inc touchscreen patent appeal - Reuters'},\n",
       " {'date': datetime.date(2015, 7, 21),\n",
       "  'title': \"Apple Inc gives Q4 2015 revenue guidance in line with analysts' estimates\"},\n",
       " {'date': datetime.date(2015, 7, 21),\n",
       "  'title': 'Apple Inc declares cash dividend'},\n",
       " {'date': datetime.date(2015, 6, 30),\n",
       "  'title': 'Apple Inc conspired to fix e-book prices -U.S. appeals court - Reuters'},\n",
       " {'date': datetime.date(2015, 6, 3),\n",
       "  'title': 'Apple recalls Beats Pill XL Portable Wireless Speakers due to fire hazard - CPSC'},\n",
       " {'date': datetime.date(2015, 5, 19),\n",
       "  'title': 'TomTom extends Apple agreement'},\n",
       " {'date': datetime.date(2015, 5, 19),\n",
       "  'title': 'Apple gets partial win on appeal in Samsung patent case - Reuters'},\n",
       " {'date': datetime.date(2015, 5, 13),\n",
       "  'title': 'Apple Inc, A123 close to settling battery hiring lawsuit - Reuters'},\n",
       " {'date': datetime.date(2015, 4, 27),\n",
       "  'title': \"Apple Inc gives Q3 2015 revenue guidance in line with analysts' estimates\"},\n",
       " {'date': datetime.date(2015, 4, 27),\n",
       "  'title': 'Apple expands capital return program to $200 billion; increased share repurchase authorization and quarterly dividend'},\n",
       " {'date': datetime.date(2015, 4, 13),\n",
       "  'title': 'Artist Britto sues Apple Inc, design firm contending misuse of his art and style in marketing - AP'},\n",
       " {'date': datetime.date(2015, 3, 10),\n",
       "  'title': 'Apple seeks to dismiss lawsuit filed by electric battery maker - Reuters'},\n",
       " {'date': datetime.date(2015, 3, 6),\n",
       "  'title': 'Apple Inc set to Join Dow Jones Industrial Average'},\n",
       " {'date': datetime.date(2015, 2, 27),\n",
       "  'title': 'Apple Inc is sued by Ericsson for telecom patent infringement'},\n",
       " {'date': datetime.date(2015, 2, 25),\n",
       "  'title': 'Smartflash wins $532.9 million patent infringement verdict against Apple Inc'},\n",
       " {'date': datetime.date(2015, 2, 19),\n",
       "  'title': 'Apple Inc poaching auto engineers to build battery division - Reuters'}]"
      ]
     },
     "execution_count": 45,
     "metadata": {},
     "output_type": "execute_result"
    }
   ],
   "source": [
    "getNews('AAPL')"
   ]
  },
  {
   "cell_type": "code",
   "execution_count": null,
   "metadata": {
    "collapsed": true
   },
   "outputs": [],
   "source": []
  }
 ],
 "metadata": {
  "anaconda-cloud": {},
  "kernelspec": {
   "display_name": "Python [py3k]",
   "language": "python",
   "name": "Python [py3k]"
  },
  "language_info": {
   "codemirror_mode": {
    "name": "ipython",
    "version": 3
   },
   "file_extension": ".py",
   "mimetype": "text/x-python",
   "name": "python",
   "nbconvert_exporter": "python",
   "pygments_lexer": "ipython3",
   "version": "3.5.2"
  }
 },
 "nbformat": 4,
 "nbformat_minor": 0
}
