{
 "cells": [
  {
   "cell_type": "code",
   "execution_count": 182,
   "metadata": {
    "collapsed": false
   },
   "outputs": [],
   "source": [
    "#This function adds a new node to the graph specifying the lengths of the links to other nodes, \n",
    "#which will be symmetrically updated as well \n",
    "def addnodes(graphmapx,nodexs):\n",
    "    for nodex in nodexs:\n",
    "        if nodex[0] not in graphmapx.keys():\n",
    "            graphmapx[nodex[0]]=set([]) #initializing the new node if not already there\n",
    "        for i in nodex[1].keys():\n",
    "            graphmapx[i].add((nodex[0],nodex[1][i])) #adding link lengths for the new node\n",
    "            graphmapx[nodex[0]].add((i,nodex[1][i])) #updating the old nodes\n",
    "    return graphmapx"
   ]
  },
  {
   "cell_type": "code",
   "execution_count": 156,
   "metadata": {
    "collapsed": false
   },
   "outputs": [],
   "source": [
    "#example of the structure of a graph, it's a dictionary of sets, \n",
    "#each containing the linked nodes and the corresponding link lengths\n",
    "graphmap={'s':{('a',1),('c',2)},'a':{('s',1),('b',1),('d',2)},'c':{('s',2),('d',10)},\n",
    "          'b':{('a',1),('g',10)},'d':{('a',2),('c',10),('g',1)},'g':{('b',10),('d',1)}}"
   ]
  },
  {
   "cell_type": "code",
   "execution_count": 190,
   "metadata": {
    "collapsed": false
   },
   "outputs": [],
   "source": [
    "#example of how to use the above function to generate a graph\n",
    "#{'s':set([])} is the trivial graph\n",
    "graphmap=addnodes({'s':set([])},[['a',{'s':1}],['b',{'s':10,'a':2}],['g',{'b':3,'a':2}],['e',{'g':3,'a':4,'s':2}]])"
   ]
  },
  {
   "cell_type": "code",
   "execution_count": 191,
   "metadata": {
    "collapsed": false
   },
   "outputs": [
    {
     "name": "stdout",
     "output_type": "stream",
     "text": [
      "{'b': [3, ['s', 'a', 'b'], 0], 's': [0, ['s'], 0], 'g': [3, ['s', 'a', 'g'], 0], 'a': [1, ['s', 'a'], 0], 'e': [2, ['s', 'e'], 0]}\n",
      "[3, ['s', 'a', 'g']]\n"
     ]
    }
   ],
   "source": [
    "#graphmap={'s':{('a',1),('b',20)},'a':{('s',1),('g',4)},'b':{('s',2),('g',1)},'g':{('a',4),('b',1)}}\n",
    "paths={'s':[0,['s'],1]}\n",
    "d=1\n",
    "while d>0:\n",
    "    d=0\n",
    "    #print(paths,'d is',d)\n",
    "    for i in list(paths.keys()):\n",
    "        #print('i is',i)\n",
    "        if paths[i][2]:\n",
    "            paths[i][2]=0\n",
    "            #print(paths,'d is',d)\n",
    "            for j in graphmap[i]:\n",
    "                #print('j is',j)\n",
    "                if ((j[0] in paths.keys()) and (paths[j[0]][0]>paths[i][0]+j[1])) or (j[0] not in paths.keys()):\n",
    "                        paths[j[0]]=[paths[i][0]+j[1],paths[i][1]+[j[0]],1]\n",
    "                        d=d+1  \n",
    "                #print(paths,'d is',d)\n",
    "print(paths)\n",
    "print(paths['g'][:2])"
   ]
  },
  {
   "cell_type": "code",
   "execution_count": 189,
   "metadata": {
    "collapsed": false
   },
   "outputs": [
    {
     "data": {
      "text/plain": [
       "{'a': {('b', 2), ('e', 4), ('g', 2), ('s', 1)},\n",
       " 'b': {('a', 2), ('g', 3), ('s', 10)},\n",
       " 'e': {('a', 4), ('g', 3), ('s', 2)},\n",
       " 'g': {('a', 2), ('b', 3), ('e', 3)},\n",
       " 's': {('a', 1), ('b', 10), ('e', 2)}}"
      ]
     },
     "execution_count": 189,
     "metadata": {},
     "output_type": "execute_result"
    }
   ],
   "source": [
    "graphmap"
   ]
  },
  {
   "cell_type": "code",
   "execution_count": null,
   "metadata": {
    "collapsed": true
   },
   "outputs": [],
   "source": []
  }
 ],
 "metadata": {
  "anaconda-cloud": {},
  "kernelspec": {
   "display_name": "Python [py3k]",
   "language": "python",
   "name": "Python [py3k]"
  },
  "language_info": {
   "codemirror_mode": {
    "name": "ipython",
    "version": 3
   },
   "file_extension": ".py",
   "mimetype": "text/x-python",
   "name": "python",
   "nbconvert_exporter": "python",
   "pygments_lexer": "ipython3",
   "version": "3.5.2"
  }
 },
 "nbformat": 4,
 "nbformat_minor": 0
}
