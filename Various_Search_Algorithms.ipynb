{
 "cells": [
  {
   "cell_type": "markdown",
   "metadata": {},
   "source": [
    "# Shortest path in a non directed graph"
   ]
  },
  {
   "cell_type": "code",
   "execution_count": 76,
   "metadata": {
    "collapsed": false
   },
   "outputs": [],
   "source": [
    "class Graph:\n",
    "    def __init__(self,graphmap={}):\n",
    "        \"\"\"\n",
    "        This is a non-directed graph\n",
    "        \"\"\"\n",
    "        self.graphmap=graphmap\n",
    "        self.paths={}#This will \n",
    "        return\n",
    "\n",
    "    def addnodes(self,new_nodes):\n",
    "        \"\"\"\n",
    "        This function adds a new node to the graph specifying the lengths of the links to other nodes, \n",
    "        which will be symmetrically updated as well\n",
    "        \"\"\"\n",
    "        for new_node in new_nodes:\n",
    "            if new_node[0] not in self.graphmap.keys():\n",
    "                self.graphmap[new_node[0]]=set() #initializing the new node if not already there\n",
    "            for i in new_node[1].keys():\n",
    "                self.graphmap[i].add((new_node[0],new_node[1][i])) #adding link lengths for the new node\n",
    "                self.graphmap[new_node[0]].add((i,new_node[1][i])) #updating the old nodes\n",
    "        return\n",
    "    \n",
    "    def search_paths(self,start):\n",
    "        \"\"\"\n",
    "        This function performs the search for shortest paths to all other nodes\n",
    "        from a starting node selected by the user.\n",
    "        \"\"\"\n",
    "        if start not in self.graphmap.keys():\n",
    "            return \"Hey, you chose a node that doesn't exist...\"\n",
    "        self.paths={start:[0,[start],1]}\n",
    "        any_change=1\n",
    "        while any_change>0:\n",
    "            any_change=0\n",
    "            for vis_node in list(self.paths.keys()):\n",
    "                if self.paths[vis_node][2]:\n",
    "                    self.paths[vis_node][2]=0\n",
    "                    for next_node in self.graphmap[vis_node]:\n",
    "                        if ((next_node[0] in self.paths.keys()) and (self.paths[next_node[0]][0]>self.paths[vis_node][0]+next_node[1])) or (next_node[0] not in self.paths.keys()):\n",
    "                                self.paths[next_node[0]]=[self.paths[vis_node][0]+next_node[1],self.paths[vis_node][1]+[next_node[0]],1]\n",
    "                                any_change=any_change+1\n",
    "        return\n",
    "    "
   ]
  },
  {
   "cell_type": "code",
   "execution_count": 64,
   "metadata": {
    "collapsed": false
   },
   "outputs": [],
   "source": [
    "#example of the structure of a graph, it's a dictionary of sets, \n",
    "#each containing the linked nodes and the corresponding link lengths\n",
    "graphmap={'s':{('a',1),('c',2)},'a':{('s',1),('b',1),('d',2)},'c':{('s',2),('d',10)},\n",
    "          'b':{('a',1),('g',10)},'d':{('a',2),('c',10),('g',1)},'g':{('b',10),('d',1)}}"
   ]
  },
  {
   "cell_type": "code",
   "execution_count": 71,
   "metadata": {
    "collapsed": true
   },
   "outputs": [],
   "source": [
    "graph=Graph(graphmap)"
   ]
  },
  {
   "cell_type": "code",
   "execution_count": 72,
   "metadata": {
    "collapsed": false
   },
   "outputs": [
    {
     "data": {
      "text/plain": [
       "{'a': {('b', 1), ('d', 2), ('s', 1)},\n",
       " 'b': {('a', 1), ('g', 10)},\n",
       " 'c': {('d', 10), ('s', 2)},\n",
       " 'd': {('a', 2), ('c', 10), ('g', 1)},\n",
       " 'g': {('b', 10), ('d', 1)},\n",
       " 's': {('a', 1), ('c', 2)}}"
      ]
     },
     "execution_count": 72,
     "metadata": {},
     "output_type": "execute_result"
    }
   ],
   "source": [
    "graph.graphmap"
   ]
  },
  {
   "cell_type": "code",
   "execution_count": 77,
   "metadata": {
    "collapsed": false
   },
   "outputs": [],
   "source": [
    "#equivalently, example of how to use the above function to generate a graph\n",
    "graph=Graph()\n",
    "#{'s':set([])} is the trivial graph\n",
    "graph.addnodes([['s',{}],['a',{'s':1}],['b',{'s':10,'a':2}],['g',{'b':3,'a':2}],['e',{'g':3,'a':4,'s':2}]])"
   ]
  },
  {
   "cell_type": "code",
   "execution_count": 74,
   "metadata": {
    "collapsed": false,
    "scrolled": true
   },
   "outputs": [
    {
     "data": {
      "text/plain": [
       "{'a': {('b', 2), ('e', 4), ('g', 2), ('s', 1)},\n",
       " 'b': {('a', 2), ('g', 3), ('s', 10)},\n",
       " 'e': {('a', 4), ('g', 3), ('s', 2)},\n",
       " 'g': {('a', 2), ('b', 3), ('e', 3)},\n",
       " 's': {('a', 1), ('b', 10), ('e', 2)}}"
      ]
     },
     "execution_count": 74,
     "metadata": {},
     "output_type": "execute_result"
    }
   ],
   "source": [
    "graph.graphmap"
   ]
  },
  {
   "cell_type": "code",
   "execution_count": 78,
   "metadata": {
    "collapsed": false
   },
   "outputs": [],
   "source": [
    "graph.search_paths('b')"
   ]
  },
  {
   "cell_type": "code",
   "execution_count": 79,
   "metadata": {
    "collapsed": false
   },
   "outputs": [
    {
     "data": {
      "text/plain": [
       "{'a': [2, ['b', 'a'], 0],\n",
       " 'b': [0, ['b'], 0],\n",
       " 'e': [5, ['b', 'a', 's', 'e'], 0],\n",
       " 'g': [3, ['b', 'g'], 0],\n",
       " 's': [3, ['b', 'a', 's'], 0]}"
      ]
     },
     "execution_count": 79,
     "metadata": {},
     "output_type": "execute_result"
    }
   ],
   "source": [
    "graph.paths"
   ]
  },
  {
   "cell_type": "code",
   "execution_count": 80,
   "metadata": {
    "collapsed": true
   },
   "outputs": [],
   "source": [
    "graph.search_paths('s')"
   ]
  },
  {
   "cell_type": "code",
   "execution_count": 81,
   "metadata": {
    "collapsed": false
   },
   "outputs": [
    {
     "data": {
      "text/plain": [
       "{'a': [1, ['s', 'a'], 0],\n",
       " 'b': [3, ['s', 'a', 'b'], 0],\n",
       " 'e': [2, ['s', 'e'], 0],\n",
       " 'g': [3, ['s', 'a', 'g'], 0],\n",
       " 's': [0, ['s'], 0]}"
      ]
     },
     "execution_count": 81,
     "metadata": {},
     "output_type": "execute_result"
    }
   ],
   "source": [
    "graph.paths"
   ]
  },
  {
   "cell_type": "markdown",
   "metadata": {},
   "source": [
    "# Searching for a Subtree"
   ]
  },
  {
   "cell_type": "code",
   "execution_count": 14,
   "metadata": {
    "collapsed": true
   },
   "outputs": [],
   "source": [
    "class Node:\n",
    "    def __init__(self,val,left,right):\n",
    "        self.val=val\n",
    "        self.left=left\n",
    "        self.right=right\n",
    "        return\n",
    "    \n",
    "def is_this_it(head1,head2):\n",
    "    if head2 is None:\n",
    "        return True\n",
    "    if head1 is None:\n",
    "        return False\n",
    "    return (head1.val==head2.val) and is_this_it(head1.left,head2.left) and is_this_it(head1.right,head2.right)\n",
    "\n",
    "def is_it_here(head1,head2):\n",
    "    if head2 is None:\n",
    "        return True\n",
    "    if head1 is None:\n",
    "        return False\n",
    "    return is_this_it(head1,head2) or is_it_here(head1.left,head2) or is_it_here(head1.right,head2)"
   ]
  },
  {
   "cell_type": "code",
   "execution_count": 18,
   "metadata": {
    "collapsed": false
   },
   "outputs": [],
   "source": [
    "N11=Node(4,None,None)\n",
    "N12=Node(5,None,None)\n",
    "N13=Node(3,N11,N12)\n",
    "N14=Node(2,N13,None)\n",
    "N15=Node(2,None,None)\n",
    "N16=Node(2,N14,N15)\n",
    "\n",
    "\n",
    "N21=Node(4,None,None)\n",
    "N22=Node(5,None,None)\n",
    "N23=Node(3,N21,N22)\n"
   ]
  },
  {
   "cell_type": "code",
   "execution_count": 19,
   "metadata": {
    "collapsed": false
   },
   "outputs": [
    {
     "data": {
      "text/plain": [
       "True"
      ]
     },
     "execution_count": 19,
     "metadata": {},
     "output_type": "execute_result"
    }
   ],
   "source": [
    "is_it_here(N14,N23)"
   ]
  },
  {
   "cell_type": "markdown",
   "metadata": {},
   "source": [
    "# Counting inversions"
   ]
  },
  {
   "cell_type": "code",
   "execution_count": 24,
   "metadata": {
    "collapsed": true
   },
   "outputs": [],
   "source": [
    "import numpy as np"
   ]
  },
  {
   "cell_type": "code",
   "execution_count": 118,
   "metadata": {
    "collapsed": false
   },
   "outputs": [
    {
     "data": {
      "text/plain": [
       "int"
      ]
     },
     "execution_count": 118,
     "metadata": {},
     "output_type": "execute_result"
    }
   ],
   "source": [
    "type(7)"
   ]
  },
  {
   "cell_type": "code",
   "execution_count": 117,
   "metadata": {
    "collapsed": false
   },
   "outputs": [
    {
     "name": "stdout",
     "output_type": "stream",
     "text": [
      "[1, 2, 2, 3, 4]\n",
      "[-3, -2, -1, 2, 4]\n"
     ]
    }
   ],
   "source": [
    "n=5\n",
    "a=list(range(n))\n",
    "b=list(range(n))\n",
    "np.random.shuffle(a)\n",
    "deltavec=np.array(b)-np.array(a)\n",
    "deltavec=sorted(deltavec)\n",
    "deltaveca=sorted([abs(i) for i in deltavec])\n",
    "print(deltaveca)\n",
    "print(deltavec)"
   ]
  },
  {
   "cell_type": "code",
   "execution_count": 112,
   "metadata": {
    "collapsed": false
   },
   "outputs": [],
   "source": [
    "for i in range(deltaveca.pop()):\n",
    "    \n",
    "    sign.deltavec[i]*+=1"
   ]
  },
  {
   "cell_type": "code",
   "execution_count": 113,
   "metadata": {
    "collapsed": false
   },
   "outputs": [
    {
     "data": {
      "text/plain": [
       "[-3, 0, 2, 1]"
      ]
     },
     "execution_count": 113,
     "metadata": {},
     "output_type": "execute_result"
    }
   ],
   "source": [
    "deltavec"
   ]
  },
  {
   "cell_type": "code",
   "execution_count": null,
   "metadata": {
    "collapsed": true
   },
   "outputs": [],
   "source": [
    "np."
   ]
  }
 ],
 "metadata": {
  "anaconda-cloud": {},
  "kernelspec": {
   "display_name": "Python [py3k]",
   "language": "python",
   "name": "Python [py3k]"
  },
  "language_info": {
   "codemirror_mode": {
    "name": "ipython",
    "version": 3
   },
   "file_extension": ".py",
   "mimetype": "text/x-python",
   "name": "python",
   "nbconvert_exporter": "python",
   "pygments_lexer": "ipython3",
   "version": "3.5.2"
  }
 },
 "nbformat": 4,
 "nbformat_minor": 0
}
